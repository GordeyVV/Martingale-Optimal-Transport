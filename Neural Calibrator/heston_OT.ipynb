{
  "cells": [
    {
      "cell_type": "markdown",
      "source": [
        "# Calibration of a Stochastic Model using the Sinkhorn divergence"
      ],
      "metadata": {
        "id": "9inMQJhNy_S9"
      }
    },
    {
      "cell_type": "markdown",
      "metadata": {
        "id": "-Kp0UEotvRjI"
      },
      "source": [
        "## OT based Calibrator"
      ]
    },
    {
      "cell_type": "code",
      "source": [
        "!pip install geomloss"
      ],
      "metadata": {
        "colab": {
          "base_uri": "https://localhost:8080/"
        },
        "collapsed": true,
        "id": "SlKDVMpdvWzW",
        "outputId": "cc6d0991-bbe9-4ccc-f500-44d3f8005585"
      },
      "execution_count": null,
      "outputs": [
        {
          "output_type": "stream",
          "name": "stdout",
          "text": [
            "Requirement already satisfied: geomloss in /usr/local/lib/python3.11/dist-packages (0.2.6)\n",
            "Requirement already satisfied: numpy in /usr/local/lib/python3.11/dist-packages (from geomloss) (2.0.2)\n",
            "Requirement already satisfied: torch in /usr/local/lib/python3.11/dist-packages (from geomloss) (2.6.0+cu124)\n",
            "Requirement already satisfied: filelock in /usr/local/lib/python3.11/dist-packages (from torch->geomloss) (3.18.0)\n",
            "Requirement already satisfied: typing-extensions>=4.10.0 in /usr/local/lib/python3.11/dist-packages (from torch->geomloss) (4.13.1)\n",
            "Requirement already satisfied: networkx in /usr/local/lib/python3.11/dist-packages (from torch->geomloss) (3.4.2)\n",
            "Requirement already satisfied: jinja2 in /usr/local/lib/python3.11/dist-packages (from torch->geomloss) (3.1.6)\n",
            "Requirement already satisfied: fsspec in /usr/local/lib/python3.11/dist-packages (from torch->geomloss) (2025.3.2)\n",
            "Requirement already satisfied: nvidia-cuda-nvrtc-cu12==12.4.127 in /usr/local/lib/python3.11/dist-packages (from torch->geomloss) (12.4.127)\n",
            "Requirement already satisfied: nvidia-cuda-runtime-cu12==12.4.127 in /usr/local/lib/python3.11/dist-packages (from torch->geomloss) (12.4.127)\n",
            "Requirement already satisfied: nvidia-cuda-cupti-cu12==12.4.127 in /usr/local/lib/python3.11/dist-packages (from torch->geomloss) (12.4.127)\n",
            "Requirement already satisfied: nvidia-cudnn-cu12==9.1.0.70 in /usr/local/lib/python3.11/dist-packages (from torch->geomloss) (9.1.0.70)\n",
            "Requirement already satisfied: nvidia-cublas-cu12==12.4.5.8 in /usr/local/lib/python3.11/dist-packages (from torch->geomloss) (12.4.5.8)\n",
            "Requirement already satisfied: nvidia-cufft-cu12==11.2.1.3 in /usr/local/lib/python3.11/dist-packages (from torch->geomloss) (11.2.1.3)\n",
            "Requirement already satisfied: nvidia-curand-cu12==10.3.5.147 in /usr/local/lib/python3.11/dist-packages (from torch->geomloss) (10.3.5.147)\n",
            "Requirement already satisfied: nvidia-cusolver-cu12==11.6.1.9 in /usr/local/lib/python3.11/dist-packages (from torch->geomloss) (11.6.1.9)\n",
            "Requirement already satisfied: nvidia-cusparse-cu12==12.3.1.170 in /usr/local/lib/python3.11/dist-packages (from torch->geomloss) (12.3.1.170)\n",
            "Requirement already satisfied: nvidia-cusparselt-cu12==0.6.2 in /usr/local/lib/python3.11/dist-packages (from torch->geomloss) (0.6.2)\n",
            "Requirement already satisfied: nvidia-nccl-cu12==2.21.5 in /usr/local/lib/python3.11/dist-packages (from torch->geomloss) (2.21.5)\n",
            "Requirement already satisfied: nvidia-nvtx-cu12==12.4.127 in /usr/local/lib/python3.11/dist-packages (from torch->geomloss) (12.4.127)\n",
            "Requirement already satisfied: nvidia-nvjitlink-cu12==12.4.127 in /usr/local/lib/python3.11/dist-packages (from torch->geomloss) (12.4.127)\n",
            "Requirement already satisfied: triton==3.2.0 in /usr/local/lib/python3.11/dist-packages (from torch->geomloss) (3.2.0)\n",
            "Requirement already satisfied: sympy==1.13.1 in /usr/local/lib/python3.11/dist-packages (from torch->geomloss) (1.13.1)\n",
            "Requirement already satisfied: mpmath<1.4,>=1.1.0 in /usr/local/lib/python3.11/dist-packages (from sympy==1.13.1->torch->geomloss) (1.3.0)\n",
            "Requirement already satisfied: MarkupSafe>=2.0 in /usr/local/lib/python3.11/dist-packages (from jinja2->torch->geomloss) (3.0.2)\n"
          ]
        }
      ]
    },
    {
      "cell_type": "code",
      "execution_count": null,
      "metadata": {
        "id": "0LWU5tSRvRjL"
      },
      "outputs": [],
      "source": [
        "from geomloss import SamplesLoss  # Ensure you have installed geomloss: pip install geomloss\n",
        "import torch\n",
        "import torch.optim as optim"
      ]
    },
    {
      "cell_type": "code",
      "execution_count": null,
      "metadata": {
        "id": "3VUH0aG8vRjP"
      },
      "outputs": [],
      "source": [
        "class ModelCalibrator:\n",
        "    \"\"\"\n",
        "    Calibrates a stochastic model using the Sinkhorn divergence.\n",
        "    \"\"\"\n",
        "    def __init__(self, model, observed_data, S0=None, T=1.0, loss_type=\"sinkhorn\", p=2, blur=0.05, optimizer_cls=optim.Adam, lr=0.01):\n",
        "        self.model = model\n",
        "        self.observed_data = torch.tensor(observed_data, dtype=torch.float32, device=self.model.device)\n",
        "        self.S0 = S0\n",
        "        self.T = T\n",
        "        self.loss_fn = SamplesLoss(loss_type, p=p, blur=blur)\n",
        "        self.lr = lr\n",
        "        self.optimizer_cls = optimizer_cls\n",
        "        self._setup_optimizer()\n",
        "\n",
        "    def _setup_optimizer(self):\n",
        "        # Collect parameters that require gradients\n",
        "        params = []\n",
        "        for param in self.model.params.values():\n",
        "            if param.requires_grad:\n",
        "                params.append(param)\n",
        "        self.optimizer = self.optimizer_cls(params, lr=self.lr)\n",
        "\n",
        "    def calibrate(self, num_epochs=1000, batch_size=None, steps=100, verbose=True):\n",
        "        if batch_size is None:\n",
        "            batch_size = len(self.observed_data)\n",
        "        observed_tensor = self.observed_data\n",
        "\n",
        "        for epoch in range(num_epochs):\n",
        "            self.optimizer.zero_grad()\n",
        "            simulated_data = self.model.simulate(S0=self.S0, T=self.T, N=batch_size, steps=steps)\n",
        "            if simulated_data.dim() > 1:\n",
        "                simulated_flat = simulated_data.view(batch_size, -1)\n",
        "                observed_flat = observed_tensor.view(batch_size, -1)\n",
        "            else:\n",
        "                simulated_flat = simulated_data.view(-1, 1)\n",
        "                observed_flat = observed_tensor.view(-1, 1)\n",
        "\n",
        "            loss = self.loss_fn(simulated_flat, observed_flat)\n",
        "            loss.backward()\n",
        "            self.optimizer.step()\n",
        "\n",
        "            # Apply parameter constraints\n",
        "            self.model._apply_constraints()\n",
        "\n",
        "            if verbose and epoch % (num_epochs // 10) == 0:\n",
        "                params_str = ', '.join([f'{name}: {param.item() if param.dim()==0 else param.detach().cpu().numpy()}' for name, param in self.model.params.items()])\n",
        "                print(f'Epoch {epoch}, Loss: {loss.item():.6f}, {params_str}')\n",
        "\n",
        "    def get_calibrated_params(self):\n",
        "        result = {}\n",
        "        for name, param in self.model.params.items():\n",
        "            if param.dim() == 0:\n",
        "                result[name] = param.item()\n",
        "            else:\n",
        "                result[name] = param.detach().cpu().numpy()\n",
        "        return result"
      ]
    },
    {
      "cell_type": "markdown",
      "metadata": {
        "id": "PXV9wevCvRjR"
      },
      "source": [
        "## Stochastic Model"
      ]
    },
    {
      "cell_type": "code",
      "execution_count": null,
      "metadata": {
        "id": "66jmNkmUvRjS"
      },
      "outputs": [],
      "source": [
        "class StochasticModel:\n",
        "    \"\"\"\n",
        "    Base class for stochastic models.\n",
        "    \"\"\"\n",
        "\n",
        "    def __init__(self, params):\n",
        "        self.params = params  # Dictionary of model parameters\n",
        "\n",
        "        # Determine the device (CPU or GPU) and move all parameters to it\n",
        "        self.device = torch.device('cuda' if torch.cuda.is_available() else 'cpu')\n",
        "        for param in self.params.values():\n",
        "            param.data = param.data.to(self.device)\n",
        "\n",
        "    def simulate(self, S0, T, N, **kwargs):\n",
        "        raise NotImplementedError(\"simulate method must be implemented by subclasses.\")\n",
        "\n",
        "    def _apply_constraints(self):\n",
        "        pass"
      ]
    },
    {
      "cell_type": "markdown",
      "metadata": {
        "id": "bUXlldgTvRjT"
      },
      "source": [
        "## Heston"
      ]
    },
    {
      "cell_type": "code",
      "execution_count": null,
      "metadata": {
        "id": "M82A-YJTvRjU"
      },
      "outputs": [],
      "source": [
        "class Heston(StochasticModel):\n",
        "    \"\"\"\n",
        "    Heston stochastic volatility model.\n",
        "    \"\"\"\n",
        "\n",
        "    def __init__(self, kappa_init=1.0, theta_init=0.04, sigma_v_init=0.5, rho_init=-0.5, v0_init=0.04, mu_init=0.0):\n",
        "        params = {\n",
        "            'kappa': torch.tensor(kappa_init, requires_grad=True),\n",
        "            'theta': torch.tensor(theta_init, requires_grad=True),\n",
        "            'sigma_v': torch.tensor(sigma_v_init, requires_grad=True),\n",
        "            'rho': torch.tensor(rho_init, requires_grad=True),\n",
        "            'v0': torch.tensor(v0_init, requires_grad=True),\n",
        "            'mu': torch.tensor(mu_init, requires_grad=True)\n",
        "        }\n",
        "        super().__init__(params)\n",
        "\n",
        "    def simulate(self, S0, T, N, steps=100):\n",
        "      dt = T / steps  # dt is a float here\n",
        "      dt = torch.tensor(dt, device=self.device)  # Convert to tensor early\n",
        "      mu = self.params['mu']\n",
        "      kappa = self.params['kappa']\n",
        "      theta = self.params['theta']\n",
        "      sigma_v = self.params['sigma_v']\n",
        "      rho = torch.clamp(self.params['rho'], min=-0.999, max=0.999)\n",
        "      v0 = self.params['v0'].item()  # Ensure scalar for torch.full\n",
        "      S0 = torch.tensor(S0, device=self.device)\n",
        "      N = int(N)\n",
        "      steps = int(steps)\n",
        "\n",
        "      vs = [torch.full((N,), v0, device=self.device)]\n",
        "      Ss = [torch.full((N,), S0.item(), device=self.device)]  # Ensure scalar\n",
        "\n",
        "      for t in range(1, steps):\n",
        "          v_prev = vs[-1]\n",
        "          S_prev = Ss[-1]\n",
        "\n",
        "          Z1 = torch.randn(N, device=self.device)\n",
        "          Z2 = torch.randn(N, device=self.device)\n",
        "          W_S = Z1 * torch.sqrt(dt)  # dt is now a tensor\n",
        "          W_v = (rho * Z1 + torch.sqrt(1 - rho**2) * Z2) * torch.sqrt(dt)\n",
        "\n",
        "          v_t_minus = torch.relu(v_prev)\n",
        "          dv = kappa * (theta - v_t_minus) * dt + sigma_v * torch.sqrt(v_t_minus) * W_v\n",
        "          new_v = v_t_minus + dv\n",
        "          new_S = S_prev + S_prev * (mu * dt + torch.sqrt(v_t_minus) * W_S)\n",
        "\n",
        "          vs.append(new_v)\n",
        "          Ss.append(new_S)\n",
        "\n",
        "      v = torch.stack(vs, dim=1)\n",
        "      S = torch.stack(Ss, dim=1)\n",
        "      return S[:, -1]\n",
        "\n",
        "    def option_price(self, S0, K, T, r, option_type='call', N=10000, steps=100):\n",
        "        S_T = self.simulate(S0, T, N, steps)\n",
        "        if option_type.lower() == 'call':\n",
        "            payoff = torch.relu(S_T - K)\n",
        "        elif option_type.lower() == 'put':\n",
        "            payoff = torch.relu(K - S_T)\n",
        "        else:\n",
        "            raise ValueError(\"option_type must be 'call' or 'put'\")\n",
        "        price = torch.exp(-r * T) * torch.mean(payoff)\n",
        "        return price.item()\n",
        "\n",
        "    def _apply_constraints(self):\n",
        "        self.params['theta'].data.clamp_(min=1e-6)\n",
        "        self.params['sigma_v'].data.clamp_(min=1e-6)\n",
        "        self.params['v0'].data.clamp_(min=1e-6)\n",
        "        self.params['rho'].data.clamp_(min=-0.999, max=0.999)"
      ]
    },
    {
      "cell_type": "markdown",
      "metadata": {
        "id": "BdFFZRt1vRjW"
      },
      "source": [
        "## Calibrate Heston"
      ]
    },
    {
      "cell_type": "code",
      "execution_count": null,
      "metadata": {
        "id": "G2143-asvRjX"
      },
      "outputs": [],
      "source": [
        "import numpy as np\n",
        "import torch"
      ]
    },
    {
      "cell_type": "code",
      "execution_count": null,
      "metadata": {
        "id": "-y_d23n6JX0D"
      },
      "outputs": [],
      "source": [
        "# Generate synthetic observed data using true Heston parameters\n",
        "N_observed = 1000\n",
        "S0 = 100.0\n",
        "T = 1.0\n",
        "\n",
        "true_params = {\n",
        "    'kappa_init': 2.0,\n",
        "    'theta_init': 0.05,\n",
        "    'sigma_v_init': 0.3,\n",
        "    'rho_init': -0.7,\n",
        "    'v0_init': 0.04,\n",
        "    'mu_init': 0.03\n",
        "}\n",
        "\n",
        "np.random.seed(42)\n",
        "torch.manual_seed(42)\n",
        "heston_true = Heston(**true_params)\n",
        "S_observed = heston_true.simulate(S0=S0, T=T, N=N_observed)\n",
        "\n",
        "# Initialize the Heston model with initial guesses\n",
        "heston_model = Heston(\n",
        "    kappa_init=1.0,\n",
        "    theta_init=0.02,\n",
        "    sigma_v_init=0.2,\n",
        "    rho_init=-0.5,\n",
        "    v0_init=0.02,\n",
        "    mu_init=0.0\n",
        ")\n",
        "\n",
        "# Set up the calibrator\n",
        "calibrator = ModelCalibrator(\n",
        "    model=heston_model,\n",
        "    observed_data=S_observed.detach().cpu().numpy(),  # Convert tensor to numpy array\n",
        "    S0=S0,\n",
        "    T=T,\n",
        "    lr=0.01\n",
        ")"
      ]
    },
    {
      "cell_type": "code",
      "source": [
        "# Calibrate the model\n",
        "calibrator.calibrate(num_epochs=1000, steps=100, verbose=True)\n",
        "\n",
        "# Get the calibrated parameters\n",
        "calibrated_params = calibrator.get_calibrated_params()\n",
        "print(\"Calibrated Parameters:\")\n",
        "for name, value in calibrated_params.items():\n",
        "    print(f\"{name}: {value:.6f}\")"
      ],
      "metadata": {
        "id": "S-KBrj8Y2N53"
      },
      "execution_count": null,
      "outputs": []
    },
    {
      "cell_type": "code",
      "source": [
        "# Calibrate the model\n",
        "calibrator.calibrate(num_epochs=1000, steps=1000, verbose=True)\n",
        "\n",
        "# Get the calibrated parameters\n",
        "calibrated_params = calibrator.get_calibrated_params()\n",
        "print(\"Calibrated Parameters:\")\n",
        "for name, value in calibrated_params.items():\n",
        "    print(f\"{name}: {value:.6f}\")"
      ],
      "metadata": {
        "colab": {
          "base_uri": "https://localhost:8080/"
        },
        "id": "p260_fTp27Kf",
        "outputId": "90f4b323-f373-4583-83ec-cf106eebfb70"
      },
      "execution_count": null,
      "outputs": [
        {
          "output_type": "stream",
          "name": "stdout",
          "text": [
            "Epoch 0, Loss: 0.564808, kappa: 0.9372955560684204, theta: 0.08623747527599335, sigma_v: 0.14133913815021515, rho: -0.9244350790977478, v0: 0.019999999552965164, mu: 0.028018858283758163\n",
            "Epoch 100, Loss: 2.090685, kappa: 0.9221691489219666, theta: 0.09568589180707932, sigma_v: 0.1458897888660431, rho: -0.9815501570701599, v0: 0.019999999552965164, mu: 0.03190338984131813\n",
            "Epoch 200, Loss: 0.508622, kappa: 0.8853012323379517, theta: 0.0846395418047905, sigma_v: 0.12412653863430023, rho: -0.9876137375831604, v0: 0.019999999552965164, mu: 0.03302152082324028\n",
            "Epoch 300, Loss: 0.371718, kappa: 0.8727018237113953, theta: 0.0870034396648407, sigma_v: 0.14460746943950653, rho: -0.937980592250824, v0: 0.019999999552965164, mu: 0.028822358697652817\n",
            "Epoch 400, Loss: -0.653510, kappa: 0.8595237731933594, theta: 0.09777134656906128, sigma_v: 0.1225954070687294, rho: -0.939472496509552, v0: 0.019999999552965164, mu: 0.031075533479452133\n",
            "Epoch 500, Loss: -0.900974, kappa: 0.8373584151268005, theta: 0.09728556126356125, sigma_v: 0.12181853502988815, rho: -0.9644526839256287, v0: 0.019999999552965164, mu: 0.036211106926202774\n",
            "Epoch 600, Loss: 0.098959, kappa: 0.8101245760917664, theta: 0.09764053672552109, sigma_v: 0.1374303251504898, rho: -0.9905496835708618, v0: 0.019999999552965164, mu: 0.031744517385959625\n",
            "Epoch 700, Loss: 0.222245, kappa: 0.7871309518814087, theta: 0.09391763061285019, sigma_v: 0.1288522630929947, rho: -0.97010338306427, v0: 0.019999999552965164, mu: 0.037829138338565826\n",
            "Epoch 800, Loss: -0.006813, kappa: 0.7742090821266174, theta: 0.10029707849025726, sigma_v: 0.13087953627109528, rho: -0.9906032085418701, v0: 0.019999999552965164, mu: 0.02838435024023056\n",
            "Epoch 900, Loss: 0.460724, kappa: 0.7334304451942444, theta: 0.09113805741071701, sigma_v: 0.15290871262550354, rho: -0.9628778696060181, v0: 0.019999999552965164, mu: 0.03164992108941078\n"
          ]
        }
      ]
    }
  ],
  "metadata": {
    "colab": {
      "provenance": [],
      "toc_visible": true,
      "gpuType": "T4"
    },
    "kernelspec": {
      "display_name": "Python 3",
      "name": "python3"
    },
    "language_info": {
      "codemirror_mode": {
        "name": "ipython",
        "version": 3
      },
      "file_extension": ".py",
      "mimetype": "text/x-python",
      "name": "python",
      "nbconvert_exporter": "python",
      "pygments_lexer": "ipython3",
      "version": "3.11.9"
    },
    "accelerator": "GPU"
  },
  "nbformat": 4,
  "nbformat_minor": 0
}